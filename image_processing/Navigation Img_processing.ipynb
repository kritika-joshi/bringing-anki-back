{
 "cells": [
  {
   "cell_type": "code",
   "execution_count": 1,
   "metadata": {},
   "outputs": [
    {
     "name": "stderr",
     "output_type": "stream",
     "text": [
      "/home/fizzer/.local/lib/python3.6/site-packages/tensorflow/python/framework/dtypes.py:516: FutureWarning: Passing (type, 1) or '1type' as a synonym of type is deprecated; in a future version of numpy, it will be understood as (type, (1,)) / '(1,)type'.\n",
      "  _np_qint8 = np.dtype([(\"qint8\", np.int8, 1)])\n",
      "/home/fizzer/.local/lib/python3.6/site-packages/tensorflow/python/framework/dtypes.py:517: FutureWarning: Passing (type, 1) or '1type' as a synonym of type is deprecated; in a future version of numpy, it will be understood as (type, (1,)) / '(1,)type'.\n",
      "  _np_quint8 = np.dtype([(\"quint8\", np.uint8, 1)])\n",
      "/home/fizzer/.local/lib/python3.6/site-packages/tensorflow/python/framework/dtypes.py:518: FutureWarning: Passing (type, 1) or '1type' as a synonym of type is deprecated; in a future version of numpy, it will be understood as (type, (1,)) / '(1,)type'.\n",
      "  _np_qint16 = np.dtype([(\"qint16\", np.int16, 1)])\n",
      "/home/fizzer/.local/lib/python3.6/site-packages/tensorflow/python/framework/dtypes.py:519: FutureWarning: Passing (type, 1) or '1type' as a synonym of type is deprecated; in a future version of numpy, it will be understood as (type, (1,)) / '(1,)type'.\n",
      "  _np_quint16 = np.dtype([(\"quint16\", np.uint16, 1)])\n",
      "/home/fizzer/.local/lib/python3.6/site-packages/tensorflow/python/framework/dtypes.py:520: FutureWarning: Passing (type, 1) or '1type' as a synonym of type is deprecated; in a future version of numpy, it will be understood as (type, (1,)) / '(1,)type'.\n",
      "  _np_qint32 = np.dtype([(\"qint32\", np.int32, 1)])\n",
      "/home/fizzer/.local/lib/python3.6/site-packages/tensorflow/python/framework/dtypes.py:525: FutureWarning: Passing (type, 1) or '1type' as a synonym of type is deprecated; in a future version of numpy, it will be understood as (type, (1,)) / '(1,)type'.\n",
      "  np_resource = np.dtype([(\"resource\", np.ubyte, 1)])\n",
      "/home/fizzer/.local/lib/python3.6/site-packages/tensorboard/compat/tensorflow_stub/dtypes.py:541: FutureWarning: Passing (type, 1) or '1type' as a synonym of type is deprecated; in a future version of numpy, it will be understood as (type, (1,)) / '(1,)type'.\n",
      "  _np_qint8 = np.dtype([(\"qint8\", np.int8, 1)])\n",
      "/home/fizzer/.local/lib/python3.6/site-packages/tensorboard/compat/tensorflow_stub/dtypes.py:542: FutureWarning: Passing (type, 1) or '1type' as a synonym of type is deprecated; in a future version of numpy, it will be understood as (type, (1,)) / '(1,)type'.\n",
      "  _np_quint8 = np.dtype([(\"quint8\", np.uint8, 1)])\n",
      "/home/fizzer/.local/lib/python3.6/site-packages/tensorboard/compat/tensorflow_stub/dtypes.py:543: FutureWarning: Passing (type, 1) or '1type' as a synonym of type is deprecated; in a future version of numpy, it will be understood as (type, (1,)) / '(1,)type'.\n",
      "  _np_qint16 = np.dtype([(\"qint16\", np.int16, 1)])\n",
      "/home/fizzer/.local/lib/python3.6/site-packages/tensorboard/compat/tensorflow_stub/dtypes.py:544: FutureWarning: Passing (type, 1) or '1type' as a synonym of type is deprecated; in a future version of numpy, it will be understood as (type, (1,)) / '(1,)type'.\n",
      "  _np_quint16 = np.dtype([(\"quint16\", np.uint16, 1)])\n",
      "/home/fizzer/.local/lib/python3.6/site-packages/tensorboard/compat/tensorflow_stub/dtypes.py:545: FutureWarning: Passing (type, 1) or '1type' as a synonym of type is deprecated; in a future version of numpy, it will be understood as (type, (1,)) / '(1,)type'.\n",
      "  _np_qint32 = np.dtype([(\"qint32\", np.int32, 1)])\n",
      "/home/fizzer/.local/lib/python3.6/site-packages/tensorboard/compat/tensorflow_stub/dtypes.py:550: FutureWarning: Passing (type, 1) or '1type' as a synonym of type is deprecated; in a future version of numpy, it will be understood as (type, (1,)) / '(1,)type'.\n",
      "  np_resource = np.dtype([(\"resource\", np.ubyte, 1)])\n"
     ]
    }
   ],
   "source": [
    "import cv2\n",
    "import numpy as np\n",
    "import matplotlib.pyplot as plt\n",
    "import matplotlib.image as mpimg\n",
    "import math\n",
    "import numpy as np\n",
    "import re\n",
    "import os\n",
    "import tensorflow as tf\n",
    "import cv2\n",
    "from collections import Counter\n",
    "from matplotlib import pyplot as plt\n",
    "from PIL import Image\n",
    "import glob\n",
    "import array\n",
    "from numpy import argmax\n",
    "from numpy import array\n",
    "from array import array \n",
    "from PIL import Image\n",
    "import pandas as pd"
   ]
  },
  {
   "cell_type": "code",
   "execution_count": 166,
   "metadata": {},
   "outputs": [
    {
     "data": {
      "image/png": "[encoded data removed]",
      "text/plain": [
       "<Figure size 432x288 with 1 Axes>"
      ]
     },
     "metadata": {},
     "output_type": "display_data"
    },
    {
     "name": "stdout",
     "output_type": "stream",
     "text": [
      "21\n"
     ]
    }
   ],
   "source": [
    "DATADIR = \"/home/fizzer/.gazebo/pictures/\"\n",
    "\n",
    "xdata = []\n",
    "xdatabin =[]\n",
    "\n",
    "\n",
    "path = os.path.join(DATADIR)  # create path to dogs and cats\n",
    "for img in os.listdir(path):  # iterate over each image per dogs and cats\n",
    "    img_array = cv2.imread(os.path.join(path,img),cv2.IMREAD_GRAYSCALE)  # convert to array\n",
    "    plt.imshow(img_array)\n",
    "    (thesh, binary_img_array) = cv2.threshold(img_array, 245, 255, cv2.THRESH_BINARY)\n",
    "#     plt.imshow(img_array)\n",
    "#     plt.show()\n",
    "#     plt.imshow(binary_img_array)\n",
    "#     plt.show()\n",
    "    xdata.append(img_array)\n",
    "    xdatabin.append(binary_img_array)   \n",
    "plt.imshow(xdatabin[3])\n",
    "plt.show()\n",
    "\n",
    "img_map = xdatabin[3]\n",
    "#now we want to crop based on outside white line\n",
    "\n",
    "print(len(xdata))\n",
    "\n"
   ]
  },
  {
   "cell_type": "code",
   "execution_count": 34,
   "metadata": {},
   "outputs": [
    {
     "name": "stdout",
     "output_type": "stream",
     "text": [
      "[[0 0 0 ... 0 0 0]\n",
      " [0 0 0 ... 0 0 0]\n",
      " [0 0 0 ... 0 0 0]\n",
      " ...\n",
      " [0 0 0 ... 0 0 0]\n",
      " [0 0 0 ... 0 0 0]\n",
      " [0 0 0 ... 0 0 0]]\n",
      "(924, 1549)\n"
     ]
    },
    {
     "data": {
      "image/png": "[encoded data removed]",
      "text/plain": [
       "<Figure size 432x288 with 1 Axes>"
      ]
     },
     "metadata": {},
     "output_type": "display_data"
    },
    {
     "name": "stdout",
     "output_type": "stream",
     "text": [
      "255\n",
      "1549\n"
     ]
    }
   ],
   "source": [
    "print(img_map)\n",
    "#to find value of x on the left boundary:\n",
    "leftx = 0\n",
    "print(img_map.shape)\n",
    "img_1 = img_map[200:400, 335:600]\n",
    "plt.imshow(img_1)\n",
    "plt.show()\n",
    "print(img_1[0][0])\n",
    "print(img_map.shape[1])"
   ]
  },
  {
   "cell_type": "code",
   "execution_count": 51,
   "metadata": {},
   "outputs": [
    {
     "name": "stdout",
     "output_type": "stream",
     "text": [
      "333\n",
      "1195\n",
      "35\n",
      "897\n"
     ]
    }
   ],
   "source": [
    "leftx = 0\n",
    "i = 0\n",
    "while (i < img_map.shape[1]):\n",
    "    if (img_map[500][i] >0):\n",
    "        xleft = i\n",
    "        break\n",
    "    i+=1\n",
    "print(xleft)\n",
    "\n",
    "#to find xright\n",
    "\n",
    "j = img_map.shape[1] - 1\n",
    "xright = 0\n",
    "while (j > 0):\n",
    "    if(img_map[500][j] >0):\n",
    "        xright = j\n",
    "        break\n",
    "    j-=1\n",
    "print(xright)\n",
    "\n",
    "#to find ytop\n",
    "i = 0\n",
    "while (i < img_map.shape[0]):\n",
    "    if (img_map[i][500] >0):\n",
    "        ytop= i\n",
    "        break\n",
    "    i+=1\n",
    "print(ytop)\n",
    "\n",
    "\n",
    "#to find ybottom\n",
    "j = img_map.shape[0] - 1\n",
    "while (j > 0):\n",
    "    if(img_map[j][500] >0):\n",
    "        ybottom = j-1\n",
    "        break\n",
    "    j-=1\n",
    "print(ybottom)\n"
   ]
  },
  {
   "cell_type": "code",
   "execution_count": 167,
   "metadata": {},
   "outputs": [
    {
     "name": "stdout",
     "output_type": "stream",
     "text": [
      "(862, 862)\n"
     ]
    }
   ],
   "source": [
    "array_cropped = []\n",
    "\n",
    "for x in xdata:\n",
    "    xcropped = x[ytop:ybottom, xleft:xright]\n",
    "    array_cropped.append(xcropped)\n",
    "#     plt.imshow(xcropped)\n",
    "#     plt.show()\n",
    "print(xcropped.shape)"
   ]
  },
  {
   "cell_type": "code",
   "execution_count": 164,
   "metadata": {},
   "outputs": [
    {
     "name": "stdout",
     "output_type": "stream",
     "text": [
      "[[-1  0]\n",
      " [ 0  1]]\n"
     ]
    }
   ],
   "source": [
    "R = np.matrix(([-1,-0],[0,1]))\n",
    "print(R)"
   ]
  },
  {
   "cell_type": "code",
   "execution_count": 81,
   "metadata": {},
   "outputs": [
    {
     "name": "stdout",
     "output_type": "stream",
     "text": [
      "[[-2.5  2.5]]\n",
      "[[ 2.5 -2.5]]\n",
      "[[ 2.5 -2.5]]\n",
      "[[5. 0.]]\n",
      "[[863.   0.]]\n",
      "[[863.   0.]]\n",
      "[[  0. 863.]]\n"
     ]
    }
   ],
   "source": [
    "x = np.matrix(([2.5,2.5]))\n",
    "x1 = x*R\n",
    "neg = np.matrix(([-1,0],[0,-1]))\n",
    "print(x1)\n",
    "x2 = x1*neg\n",
    "print(x2)\n",
    "x3 = x*R*neg\n",
    "print(x3)\n",
    "x4 = x3 +2.5\n",
    "print(x4)\n",
    "x5 = x4*(863/5)\n",
    "print(x5)\n",
    "\n",
    "x6 = ((x*R*neg) +2.5)*(863/5)\n",
    "print(x6)\n",
    "\n",
    "i = np.matrix(([-2.5,-2.5]))\n",
    "i1 = ((i*R*neg) +2.5)*(863/5)\n",
    "print(i1)"
   ]
  },
  {
   "cell_type": "code",
   "execution_count": 160,
   "metadata": {},
   "outputs": [
    {
     "name": "stdout",
     "output_type": "stream",
     "text": [
      "[[ 2.5 -2.5]]\n",
      "[[803.48275862  59.51724138]]\n"
     ]
    }
   ],
   "source": [
    "x = np.matrix(([2.5, -2.5]))\n",
    "x1 = -(x)\n",
    "R = -np.matrix(([0,-1],[-1,0]))\n",
    "flip = np.matrix(([0,1],[1,0]))\n",
    "x2 = (x1*R)\n",
    "print(x2)\n",
    "x3 = (x2 +2.9)*(863/5.8)\n",
    "print(x3)\n"
   ]
  },
  {
   "cell_type": "code",
   "execution_count": 161,
   "metadata": {},
   "outputs": [
    {
     "name": "stdout",
     "output_type": "stream",
     "text": [
      "803\n",
      "59\n"
     ]
    }
   ],
   "source": [
    "xcoord = int(x3.A1[0])\n",
    "ycoord = int(x3.A1[1]) \n",
    "print(xcoord)\n",
    "print(ycoord)"
   ]
  },
  {
   "cell_type": "code",
   "execution_count": 168,
   "metadata": {},
   "outputs": [
    {
     "data": {
      "image/png": "[encoded data removed]",
      "text/plain": [
       "<Figure size 432x288 with 1 Axes>"
      ]
     },
     "metadata": {},
     "output_type": "display_data"
    }
   ],
   "source": [
    "cv2.circle(xcropped, (xcoord, ycoord),10, (255,255,255), -1)\n",
    "cv2.putText(xcropped, \"location\", (xcoord - 25, ycoord-25), cv2.FONT_HERSHEY_SIMPLEX, 0.5,(255, 255, 255), 2)\n",
    "\n",
    "plt.imshow(xcropped)\n",
    "plt.show()"
   ]
  },
  {
   "cell_type": "code",
   "execution_count": null,
   "metadata": {},
   "outputs": [],
   "source": []
  }
 ],
 "metadata": {
  "kernelspec": {
   "display_name": "Python 3",
   "language": "python",
   "name": "python3"
  },
  "language_info": {
   "codemirror_mode": {
    "name": "ipython",
    "version": 3
   },
   "file_extension": ".py",
   "mimetype": "text/x-python",
   "name": "python",
   "nbconvert_exporter": "python",
   "pygments_lexer": "ipython3",
   "version": "3.6.9"
  }
 },
 "nbformat": 4,
 "nbformat_minor": 2
}
